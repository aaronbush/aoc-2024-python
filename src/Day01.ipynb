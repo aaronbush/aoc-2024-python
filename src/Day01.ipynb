{
 "cells": [
  {
   "cell_type": "code",
   "execution_count": 2,
   "metadata": {},
   "outputs": [],
   "source": [
    "# some common imports\n",
    "import ipytest\n",
    "ipytest.autoconfig()"
   ]
  },
  {
   "cell_type": "code",
   "execution_count": 56,
   "metadata": {},
   "outputs": [
    {
     "name": "stdout",
     "output_type": "stream",
     "text": [
      "\u001b[1m======================================= test session starts =======================================\u001b[0m\n",
      "platform win32 -- Python 3.10.15, pytest-8.3.4, pluggy-1.5.0 -- c:\\Users\\Wesley Bush\\OneDrive\\Documents\\@Code\\aoc-2024-python\\.venv\\Scripts\\python.exe\n",
      "cachedir: .pytest_cache\n",
      "rootdir: c:\\Users\\Wesley Bush\\OneDrive\\Documents\\@Code\\aoc-2024-python\n",
      "configfile: pyproject.toml\n",
      "\u001b[1mcollecting ... \u001b[0mcollected 4 items\n",
      "\n",
      "t_12dbe7a7da8f4abb877e764886a1ec45.py::test_part1 \u001b[32mPASSED\u001b[0m\u001b[32m                                     [ 25%]\u001b[0m\n",
      "t_12dbe7a7da8f4abb877e764886a1ec45.py::test_part2 \u001b[32mPASSED\u001b[0m\u001b[32m                                     [ 50%]\u001b[0m\n",
      "t_12dbe7a7da8f4abb877e764886a1ec45.py::test_part1real \u001b[32mPASSED\u001b[0m\u001b[32m                                 [ 75%]\u001b[0m\n",
      "t_12dbe7a7da8f4abb877e764886a1ec45.py::test_part2real \u001b[32mPASSED\u001b[0m\u001b[32m                                 [100%]\u001b[0m\n",
      "\n",
      "\u001b[32m======================================== \u001b[32m\u001b[1m4 passed\u001b[0m\u001b[32m in 0.05s\u001b[0m\u001b[32m ========================================\u001b[0m\n"
     ]
    },
    {
     "data": {
      "text/plain": [
       "<ExitCode.OK: 0>"
      ]
     },
     "execution_count": 56,
     "metadata": {},
     "output_type": "execute_result"
    }
   ],
   "source": [
    "# Run this cell to run any unit tests in this notebook\n",
    "# make sure you run the cell with the test in it first.\n",
    "ipytest.run('-vv') "
   ]
  },
  {
   "cell_type": "markdown",
   "metadata": {},
   "source": [
    "## Problem Synopsis\n",
    "What is this day all about"
   ]
  },
  {
   "cell_type": "markdown",
   "metadata": {},
   "source": [
    "### Part 1"
   ]
  },
  {
   "cell_type": "code",
   "execution_count": 36,
   "metadata": {},
   "outputs": [],
   "source": [
    "# TODO: read in data/day01_sample.txt and parse/split/process it\n",
    "def readinput(filename):\n",
    "    with open(filename, \"r\") as file:\n",
    "        lines=file.readlines()\n",
    "    return lines"
   ]
  },
  {
   "cell_type": "code",
   "execution_count": 5,
   "metadata": {},
   "outputs": [],
   "source": [
    "# TODO: read in data/day01.txt\n",
    "real_input = 'real data'"
   ]
  },
  {
   "cell_type": "code",
   "execution_count": 43,
   "metadata": {},
   "outputs": [],
   "source": [
    "def part1(lines):\n",
    "    lines = [y.strip().split() for y in lines] \n",
    "\n",
    "    col1 = [int(a) for a,b in lines]\n",
    "    col1.sort()\n",
    "    # print(col1)\n",
    "\n",
    "    col2 = [int(b) for a,b in lines]\n",
    "    col2.sort()\n",
    "    # print(col2)\n",
    "\n",
    "    difference=0\n",
    "    for x in range(len(col1)):\n",
    "        # print('diff={}/{}'.format(abs(col1[x]-col2[x]),difference))\n",
    "        difference = difference + abs(col1[x]-col2[x])\n",
    "    # print(difference)\n",
    "    return difference\n",
    "\n",
    "\n"
   ]
  },
  {
   "cell_type": "code",
   "execution_count": 40,
   "metadata": {},
   "outputs": [],
   "source": [
    "def test_part1():\n",
    "    lines= readinput(\"../data/day01_sample.txt\")\n",
    "    assert part1(lines) == 11"
   ]
  },
  {
   "cell_type": "code",
   "execution_count": 44,
   "metadata": {},
   "outputs": [
    {
     "name": "stdout",
     "output_type": "stream",
     "text": [
      "2378066\n"
     ]
    }
   ],
   "source": [
    "lines = readinput(\"../data/day01.txt\")\n",
    "print(part1(lines))"
   ]
  },
  {
   "cell_type": "code",
   "execution_count": 47,
   "metadata": {},
   "outputs": [],
   "source": [
    "def test_part1real():\n",
    "    lines= readinput(\"../data/day01.txt\")\n",
    "    assert part1(lines) == 2378066"
   ]
  },
  {
   "cell_type": "markdown",
   "metadata": {},
   "source": [
    "### Part 2"
   ]
  },
  {
   "cell_type": "code",
   "execution_count": 50,
   "metadata": {},
   "outputs": [],
   "source": [
    "def part2(lines):\n",
    "    lines = [y.strip().split() for y in lines] \n",
    "\n",
    "    col1 = [int(a) for a,b in lines]\n",
    "\n",
    "    col2 = [int(b) for a,b in lines]\n",
    "\n",
    "    score = 0\n",
    "    for x in col1:\n",
    "        thecount = col2.count(x)\n",
    "        score = score + x*thecount\n",
    "\n",
    "    return score"
   ]
  },
  {
   "cell_type": "code",
   "execution_count": 51,
   "metadata": {},
   "outputs": [],
   "source": [
    "def test_part2():\n",
    "    lines = readinput(\"../data/day01_sample.txt\")\n",
    "    assert part2(lines) == 31"
   ]
  },
  {
   "cell_type": "code",
   "execution_count": 55,
   "metadata": {},
   "outputs": [],
   "source": [
    "def test_part2real():\n",
    "    lines = readinput(\"../data/day01.txt\")\n",
    "    assert part2(lines) == 18934359"
   ]
  }
 ],
 "metadata": {
  "kernelspec": {
   "display_name": ".venv",
   "language": "python",
   "name": "python3"
  },
  "language_info": {
   "codemirror_mode": {
    "name": "ipython",
    "version": 3
   },
   "file_extension": ".py",
   "mimetype": "text/x-python",
   "name": "python",
   "nbconvert_exporter": "python",
   "pygments_lexer": "ipython3",
   "version": "3.10.15"
  }
 },
 "nbformat": 4,
 "nbformat_minor": 2
}
